{
 "cells": [
  {
   "cell_type": "markdown",
   "metadata": {},
   "source": [
    "- Il dataset non ha i valori di i e p per ogni GRB (ci sono alcuni che hanno solo i e non p)\n",
    "- Il modello ha dei problemi in quanto ci sono molti più z piccoli (<5) di z grandi (>5) quindi separando il dataset in dati di training e testing succede spesso che nel training non siano presenti (o siano presenti in proporzione estremamente minore) i valori di z > 5. Per questo motivo il modello non riesce ad allenarsi a predire quei valori, ed il risultato è una sottostima di quei valori quando si comparano le predizioni con i valori di test. Ci sono 2 possibili soluzioni: o si tagliano i valori di redshift che vanno oltre un particolare valore, oppure si usa un metodo \"stratify\" nel separare il dataset in training e testing data. Nello specifico si separano le GRBs in 2 (o più) classi in base al loro valore di z (per esempio classe 0 per z < 5 e classe 1 per z > 5) e si separano i dati in training e testing data in modo tale che la proporzione tra classe 0 e classe 1 che si aveva nel dataset iniziale rimanga tale sia per i dati di training che per quelli di testing.\n",
    "Entrambi i metodi sono stati testati e si è notato che con questi due approcci i risultati migliorano notevolmente nella stabilità del modello, inoltre tra i due non ci sono differenze sostanziali nei risultati, ragion per cui ritengo possa essere usato il metodo stratify in modo da non fare a meno di dati che possano permettere la predizione di redshift maggiori.\n",
    "- Con i logaritmi si ottengono risultati ancora leggermente migliori."
   ]
  },
  {
   "cell_type": "code",
   "execution_count": 2,
   "metadata": {},
   "outputs": [],
   "source": [
    "import numpy as np\n",
    "import pandas as pd\n",
    "import matplotlib.pyplot as plt\n",
    "from ML_GRB import ML_GRB"
   ]
  },
  {
   "cell_type": "code",
   "execution_count": 3,
   "metadata": {},
   "outputs": [],
   "source": [
    "dir_path = ''       # directory path\n",
    "\n",
    "GRB = ML_GRB()      # initializing the main class ---> see ML_GRB.py\n",
    "GRB.DataReading(dir_path)       # reading the data ---> see functions.py\n",
    "\n",
    "GRB.DatasetExtrapolation()      # creating the dataset ---> see function.py\n",
    "dataset = GRB.dataset       # saving the dataset in a variable"
   ]
  },
  {
   "cell_type": "code",
   "execution_count": 4,
   "metadata": {},
   "outputs": [
    {
     "name": "stdout",
     "output_type": "stream",
     "text": [
      "The list after removing duplicates: ['GRB110731A', 'GRB070714B', 'GRB060121', 'GRB041006', 'GRB080514B', 'GRB130701A', 'GRB080602', 'GRB100816A', 'GRB080413B', 'GRB101213A', 'GRB101219A', 'GRB971214', 'GRB100206A', 'GRB140506A', 'GRB071112C', 'GRB071010B', 'GRB140808A', 'GRB090812', 'GRB160629A', 'GRB000301C', 'GRB071117', 'GRB130408A', 'GRB060912A', 'GRB150514A', 'GRB091020', 'GRB150424A', 'GRB120804A', 'GRB160410A', 'GRB061201', 'GRB020819B', 'GRB050922C', 'GRB130603B', 'GRB021211', 'GRB140606B', 'GRB071020', 'GRB081121', 'GRB040924', 'GRB071227']\n",
      "\n",
      " # GRBs:  38\n"
     ]
    }
   ],
   "source": [
    "df = GRB.spectral_data_I\n",
    "\n",
    "# Splitting the dataset in i and p\n",
    "df_i = df[(df['SType'] == 'i')].reset_index(drop=True)\n",
    "df_p = df[(df['SType'] == 'p')].reset_index(drop=True)\n",
    "\n",
    "# Removing from \"i data\" the GRBs that are not in \"p data\" (Because the \"i GRBs Dataset\" is bigger than the\n",
    "# \"p GRBs Dataset\").\n",
    "# Creating a mask to mark if the i-th element is in the \"p dataframe\"\n",
    "condictions = []\n",
    "\n",
    "grbs = []\n",
    "temp = []\n",
    "for i in df_i['ID']:\n",
    "    condiction = i in df_p['ID'].values\n",
    "    condictions.append(condiction)\n",
    "    if condiction == False:\n",
    "        temp.append(0)\n",
    "        grbs.append(i)\n",
    "        \n",
    "unique_list = list(set(grbs))\n",
    "print(\"The list after removing duplicates:\", unique_list)\n",
    "print('\\n # GRBs: ', len(unique_list))"
   ]
  },
  {
   "cell_type": "code",
   "execution_count": 10,
   "metadata": {},
   "outputs": [
    {
     "name": "stdout",
     "output_type": "stream",
     "text": [
      "The list after removing duplicates: ['GRB060801', 'GRB091109A', 'GRB131227A', 'GRB050724', 'GRB160121A', 'GRB080906', 'GRB080430', 'GRB140907A', 'GRB050904', 'GRB080707', 'GRB070208', 'GRB100901A', 'GRB081029', 'GRB170531B', 'GRB071021', 'GRB090519', 'GRB070810A', 'GRB140311A', 'GRB091029', 'GRB090814A', 'GRB130131B', 'GRB161219B', 'GRB160327A', 'GRB080604', 'GRB050730', 'GRB100316B', 'GRB060526', 'GRB171205A', 'GRB091018', 'GRB100728B', 'GRB111225A', 'GRB060729', 'GRB100316A', 'GRB090426', 'GRB080515', 'GRB130511A', 'GRB151215A', 'GRB131004A', 'GRB080516', 'GRB080913', 'GRB070611', 'GRB060223A', 'GRB140614A', 'GRB060116', 'GRB090429B', 'GRB171020A', 'GRB061110B', 'GRB110726A', 'GRB121024A', 'GRB120722A', 'GRB150910A', 'GRB080129', 'GRB090113', 'GRB140423A', 'GRB070110', 'GRB121211A', 'GRB130427B']\n",
      "\n",
      " # GRBs:  57\n"
     ]
    }
   ],
   "source": [
    "df = GRB.spectral_data_II\n",
    "\n",
    "# Splitting the dataset in i and p\n",
    "df_i = df[(df['SType'] == 'i')].reset_index(drop=True)\n",
    "df_p = df[(df['SType'] == 'p')].reset_index(drop=True)\n",
    "\n",
    "# Removing from \"i data\" the GRBs that are not in \"p data\" (Because the \"i GRBs Dataset\" is bigger than the\n",
    "# \"p GRBs Dataset\").\n",
    "# Creating a mask to mark if the i-th element is in the \"p dataframe\"\n",
    "condictions = []\n",
    "\n",
    "grbs = []\n",
    "temp = []\n",
    "for i in df_i['ID']:\n",
    "    condiction = i in df_p['ID'].values\n",
    "    condictions.append(condiction)\n",
    "    if condiction == False:\n",
    "        temp.append(0)\n",
    "        grbs.append(i)\n",
    "        \n",
    "unique_list = list(set(grbs))\n",
    "print(\"The list after removing duplicates:\", unique_list)\n",
    "print('\\n # GRBs: ', len(unique_list))"
   ]
  },
  {
   "cell_type": "code",
   "execution_count": 6,
   "metadata": {},
   "outputs": [
    {
     "name": "stdout",
     "output_type": "stream",
     "text": [
      "Total # of GRBs 317\n",
      "# GRBs in the final dataset 222\n"
     ]
    }
   ],
   "source": [
    "a, b = GRB.energetic_data_I, GRB.energetic_data_II\n",
    "\n",
    "print('Total # of GRBs', len(a) + len(b))\n",
    "\n",
    "print('# GRBs in the final dataset', len(dataset))"
   ]
  },
  {
   "cell_type": "code",
   "execution_count": 7,
   "metadata": {},
   "outputs": [
    {
     "data": {
      "text/plain": [
       "0"
      ]
     },
     "execution_count": 7,
     "metadata": {},
     "output_type": "execute_result"
    }
   ],
   "source": [
    "(57 + 38) - (317 - 222)"
   ]
  },
  {
   "cell_type": "code",
   "execution_count": 2,
   "metadata": {},
   "outputs": [],
   "source": [
    "import matplotlib.pyplot as plt\n",
    "import seaborn as sns\n",
    "import numpy as np\n",
    "from sklearn.metrics import mean_absolute_percentage_error\n",
    "from scipy import stats\n",
    "from ML_GRB import ML_GRB, RND_FOREST\n",
    "\n",
    "GRB = ML_GRB()\n",
    "GRB.DataReading('')\n",
    "GRB.DatasetExtrapolation()\n",
    "\n",
    "dataset = GRB.dataset\n",
    "\n",
    "model = RND_FOREST()\n",
    "GRB.SetModel(model)     # Setting the model in the main class\n",
    "\n",
    "keys = []\n",
    "for i in dataset['z']:\n",
    "    if (i <= 5):\n",
    "        keys.append(0)\n",
    "        \n",
    "    elif (i > 5):\n",
    "        keys.append(1)\n",
    "        \n",
    "keys_arr = np.array(keys)\n",
    "\n",
    "dataset['z'] = np.log10(1 + dataset['z'])\n",
    "dataset[['DeltaT', 'Ep_i', 'F_i', 'Ep_p', 'F_p']] = np.log10(dataset[['DeltaT', 'Ep_i', 'F_i', 'Ep_p', 'F_p']])  \n",
    "\n",
    "# Fitting the model ---> see functions.py\n",
    "GRB.model.Run(dataset, train_size = 0.8, stratify=keys_arr, \n",
    "              n_estimators = 500, max_depth = 13)\n",
    "\n",
    "y_train_pred = GRB.model.forest.predict(GRB.model.X_train)\n",
    "\n",
    "z_train_list = []\n",
    "z_train_pred_list = []\n",
    "z_test_list = []\n",
    "z_pred_list = []\n",
    "for test, pred, train, train_pred in zip(GRB.model.y_test, GRB.model.y_pred, GRB.model.y_train, y_train_pred):\n",
    "       z_test = 10**test - 1\n",
    "       z_pred = 10**pred - 1\n",
    "       z_train = 10**train - 1\n",
    "       z_train_pred = 10**train_pred - 1\n",
    "       z_test_list.append(z_test)\n",
    "       z_pred_list.append(z_pred)\n",
    "       z_train_list.append(z_train)\n",
    "       z_train_pred_list.append(z_train_pred)\n",
    "\n",
    "# Computing the results\n",
    "correlation_coefficient, p_value = stats.pearsonr(z_test_list, z_pred_list)\n",
    "mape = mean_absolute_percentage_error(z_test_list, z_pred_list)\n",
    "\n",
    "# Plotting predictions vs test data\n",
    "fig, ax = plt.subplots(1,2)\n",
    "ax[0].set(title = 'Test Results', \n",
    "       xlabel = 'z observed', \n",
    "       ylabel = 'z predicted')\n",
    "ax[1].set(title = 'Train Results', \n",
    "       xlabel = 'z observed', \n",
    "       ylabel = 'z predicted')\n",
    "\n",
    "ax[0].scatter(z_test_list, z_pred_list, color='k', marker='.', label='model results')\n",
    "ax[1].scatter(z_train_list, z_train_pred_list, color='k', marker='.', label='model results')\n",
    "\n",
    "# Plotting a bisector that act as an ideal model\n",
    "x_values1 = np.linspace(0, max(z_test_list), 100)\n",
    "x_values2 = np.linspace(0, max(z_train_list), 100)\n",
    "ax[0].plot(x_values1, x_values1, color='0.6', linestyle = '--', label='ideal model')\n",
    "ax[1].plot(x_values2, x_values2, color='0.6', linestyle = '--', label='ideal model')\n",
    "\n",
    "\n",
    "ax[0].legend(loc='best')\n",
    "ax[1].legend(loc='best')\n",
    "plt.show()\n",
    "    \n",
    "# Printing the results\n",
    "print('The correlation r is : {:.5f} and the p-value is {:.5f} while the MAPE is: {:.5f}'.format(correlation_coefficient, p_value, mape))"
   ]
  },
  {
   "cell_type": "markdown",
   "metadata": {},
   "source": [
    "#-----------------------------------------------------------------------------------------------------#"
   ]
  },
  {
   "cell_type": "code",
   "execution_count": 8,
   "metadata": {},
   "outputs": [
    {
     "data": {
      "image/png": "[encoded data removed]",
      "text/plain": [
       "<Figure size 640x480 with 1 Axes>"
      ]
     },
     "metadata": {},
     "output_type": "display_data"
    },
    {
     "name": "stdout",
     "output_type": "stream",
     "text": [
      "The correlation r is : 0.98976 while the MAPE is: 0.02862\n"
     ]
    }
   ],
   "source": [
    "from ML_GRB import RND_FOREST\n",
    "from scipy.stats import pearsonr\n",
    "from sklearn.metrics import mean_absolute_percentage_error\n",
    "\n",
    "# Inizialising the model class ---> see ML_GRB.py\n",
    "model = RND_FOREST()\n",
    "GRB.SetModel(model)     # Setting the model in the main class\n",
    "\n",
    "# Fitting the model ---> see functions.py\n",
    "GRB.model.Run(dataset, train_size = 0.8, random_state = 3, \n",
    "              n_estimators = 100, max_depth = 7)\n",
    "\n",
    "# Computing the results\n",
    "r_score, _ = pearsonr(GRB.model.y_test, GRB.model.y_pred)\n",
    "mape = mean_absolute_percentage_error(GRB.model.y_test, GRB.model.y_pred)\n",
    "\n",
    "# Plotting predictions vs test data\n",
    "fig, ax = plt.subplots()\n",
    "ax.set(title = 'Y test vs Y predicted', \n",
    "       xlabel = 'test values', \n",
    "       ylabel = 'predictions')\n",
    "\n",
    "ax.scatter(GRB.model.y_test, GRB.model.y_pred, color='k', marker='.', label='model results')\n",
    "\n",
    "# Plotting a bisector that act as an ideal model\n",
    "x_values = np.linspace(0, max(GRB.model.y_test), 100)\n",
    "ax.plot(x_values, x_values, color='0.8', linestyle = '--', label='ideal model')\n",
    "\n",
    "ax.legend(loc='best')\n",
    "plt.show()\n",
    "    \n",
    "# Printing the results\n",
    "print('The correlation r is : {:.5f} while the MAPE is: {:.5f}'.format(r_score, mape))"
   ]
  },
  {
   "cell_type": "code",
   "execution_count": 9,
   "metadata": {},
   "outputs": [
    {
     "data": {
      "text/plain": [
       "<matplotlib.legend.Legend at 0x7fe6640cf500>"
      ]
     },
     "execution_count": 9,
     "metadata": {},
     "output_type": "execute_result"
    },
    {
     "data": {
      "image/png": "[encoded data removed]",
      "text/plain": [
       "<Figure size 640x480 with 1 Axes>"
      ]
     },
     "metadata": {},
     "output_type": "display_data"
    }
   ],
   "source": [
    "import seaborn as sns\n",
    "\n",
    "sns.set_theme()  # <-- This actually changes the look of plots.\n",
    "plt.hist([GRB.model.y_test, GRB.model.y_train], color=['r','b'], alpha=0.5, label=['z test', 'z train'])\n",
    "plt.legend(loc='best')"
   ]
  }
 ],
 "metadata": {
  "kernelspec": {
   "display_name": "tesi",
   "language": "python",
   "name": "python3"
  },
  "language_info": {
   "codemirror_mode": {
    "name": "ipython",
    "version": 3
   },
   "file_extension": ".py",
   "mimetype": "text/x-python",
   "name": "python",
   "nbconvert_exporter": "python",
   "pygments_lexer": "ipython3",
   "version": "3.12.3"
  }
 },
 "nbformat": 4,
 "nbformat_minor": 2
}
